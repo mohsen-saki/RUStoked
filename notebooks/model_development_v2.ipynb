{
 "cells": [
  {
   "cell_type": "markdown",
   "metadata": {},
   "source": [
    "# More on Model Development\n",
    "------------\n",
    "Herewith this notebook I will investigate a few other ideas for improving model performance on the `class-1` known as `disengaged`.\n",
    "\n",
    "1. Firstly, I will try another algorithm\n",
    "2. Secondly, I will train and test a model just for engineered features and not including word vectors.\n",
    "3. Thirdly, I will clean the text feature  to see if the model can pick up some other effective features."
   ]
  },
  {
   "cell_type": "code",
   "execution_count": 1,
   "metadata": {},
   "outputs": [
    {
     "name": "stderr",
     "output_type": "stream",
     "text": [
      "[nltk_data] Downloading package stopwords to /home/sakima/nltk_data...\n",
      "[nltk_data]   Package stopwords is already up-to-date!\n",
      "[nltk_data] Downloading package wordnet to /home/sakima/nltk_data...\n",
      "[nltk_data]   Package wordnet is already up-to-date!\n"
     ]
    }
   ],
   "source": [
    "import pandas as pd\n",
    "from sklearn.model_selection import train_test_split\n",
    "from sklearn.naive_bayes import MultinomialNB\n",
    "from sklearn.ensemble import RandomForestClassifier\n",
    "from sklearn.feature_extraction.text import TfidfVectorizer\n",
    "import nltk\n",
    "from nltk.tokenize import RegexpTokenizer\n",
    "from nltk.corpus import stopwords\n",
    "nltk.download('stopwords')\n",
    "from nltk.stem import WordNetLemmatizer \n",
    "nltk.download('wordnet')\n",
    "\n",
    "\n",
    "from pathlib import Path\n",
    "import sys\n",
    "sys.path.append(\"..\")\n",
    "\n",
    "from rustoked.data_processing import(\n",
    "    clean_raw_dataframe,\n",
    "    get_labels,\n",
    "    get_normalized_series,\n",
    "    get_features,\n",
    "    get_punct_removed\n",
    ")\n",
    "\n",
    "from rustoked.model_development import(\n",
    "    get_vectorizer,\n",
    "    get_vectors_list,\n",
    "    get_features_and_labels,\n",
    "    get_metrics,\n",
    "    get_cm_plot,\n",
    "    get_feature_importance\n",
    ")\n",
    "\n",
    "import warnings\n",
    "warnings.filterwarnings('ignore')\n",
    "%reload_ext autoreload\n",
    "%autoreload 2"
   ]
  },
  {
   "cell_type": "markdown",
   "metadata": {},
   "source": [
    "Load the data and get dataframe ready for further processes."
   ]
  },
  {
   "cell_type": "code",
   "execution_count": 2,
   "metadata": {},
   "outputs": [],
   "source": [
    "df = pd.read_csv(Path(\"../data/raw_data.csv\"))\n",
    "df = clean_raw_dataframe(df.copy())\n",
    "df = get_features(df.copy())"
   ]
  },
  {
   "cell_type": "markdown",
   "metadata": {},
   "source": [
    "### 1. Naive Bayes Model\n",
    "\n",
    "As suggested by [scikit-learn guide](https://docs.google.com/document/d/1u-sHT0PU7114OV4cBuJ6AkFpHDYShLWjtN2Pt0yn08s/edit) to estimators I use a `Naive Bayes` model here. As Results show, no significant changes in outcomes."
   ]
  },
  {
   "cell_type": "code",
   "execution_count": 3,
   "metadata": {},
   "outputs": [],
   "source": [
    "train_df, test_df = train_test_split(df, test_size=0.2, random_state=69)\n",
    "\n",
    "vectorizer = get_vectorizer(train_df)\n",
    "\n",
    "train_df[\"vectors\"] = get_vectors_list(train_df[\"reviews\"], vectorizer)\n",
    "test_df[\"vectors\"] = get_vectors_list(test_df[\"reviews\"], vectorizer)"
   ]
  },
  {
   "cell_type": "code",
   "execution_count": 4,
   "metadata": {},
   "outputs": [],
   "source": [
    "clf = MultinomialNB()\n",
    "\n",
    "X_train, y_train = get_features_and_labels(train_df)\n",
    "X_test, y_test = get_features_and_labels(test_df)\n",
    "\n",
    "clf.fit(X_train, y_train)\n",
    "\n",
    "y_predicted = clf.predict(X_test)"
   ]
  },
  {
   "cell_type": "code",
   "execution_count": 5,
   "metadata": {},
   "outputs": [
    {
     "name": "stdout",
     "output_type": "stream",
     "text": [
      "              precision    recall  f1-score   support\n",
      "\n",
      "           0       0.73      0.68      0.70       736\n",
      "           1       0.35      0.02      0.03       489\n",
      "           2       0.67      0.96      0.79      1196\n",
      "\n",
      "    accuracy                           0.68      2421\n",
      "   macro avg       0.58      0.55      0.51      2421\n",
      "weighted avg       0.62      0.68      0.61      2421\n",
      "\n"
     ]
    }
   ],
   "source": [
    "get_metrics(y_test, y_predicted)"
   ]
  },
  {
   "cell_type": "code",
   "execution_count": 6,
   "metadata": {},
   "outputs": [
    {
     "data": {
      "image/png": "[encoded data removed]",
      "text/plain": [
       "<Figure size 432x288 with 2 Axes>"
      ]
     },
     "metadata": {
      "needs_background": "light"
     },
     "output_type": "display_data"
    }
   ],
   "source": [
    "get_cm_plot(clf, X_test, y_test)"
   ]
  },
  {
   "cell_type": "markdown",
   "metadata": {},
   "source": [
    "### 2. Engineered Features without Word-Vectors\n",
    "\n",
    "By this model, I just use generated features from text and not the text vectors themselves. **_Interestingly_**, at the cost of lower performance on labels `“Dissatisfied”` and `“Stoked”`, it shows some improvement on detecting the `“Disengaged”` class.\n",
    "\n",
    "I suppose working more on investigating the text data and extracting more predictive features should result in better performance not only on the `class-1` but also the two other classes."
   ]
  },
  {
   "cell_type": "code",
   "execution_count": 7,
   "metadata": {},
   "outputs": [],
   "source": [
    "clf = RandomForestClassifier(n_estimators=100, class_weight='balanced', oob_score=True, n_jobs=2)\n",
    "\n",
    "features_name = [\"review_len\", \n",
    "                 \"has_positive\", \n",
    "                 \"has_but\", \n",
    "                 \"has_negative\", \n",
    "                 \"great_count\", \n",
    "                 \"good_count\", \n",
    "                 \"bad_count\", \n",
    "                 \"poor_count\", \n",
    "                 \"not_count\", \n",
    "                 \"no_count\", \n",
    "                 \"n't_count\", \n",
    "                 \"pos_neg_factor\"]\n",
    "\n",
    "X_train = train_df[features_name].astype(float)\n",
    "y_train = train_df[\"labels\"]\n",
    "\n",
    "X_test = test_df[features_name].astype(float)\n",
    "y_test = test_df[\"labels\"]\n",
    "\n",
    "clf.fit(X_train, y_train)\n",
    "\n",
    "y_predicted = clf.predict(X_test)"
   ]
  },
  {
   "cell_type": "code",
   "execution_count": 8,
   "metadata": {},
   "outputs": [
    {
     "name": "stdout",
     "output_type": "stream",
     "text": [
      "              precision    recall  f1-score   support\n",
      "\n",
      "           0       0.48      0.49      0.48       736\n",
      "           1       0.25      0.25      0.25       489\n",
      "           2       0.63      0.63      0.63      1196\n",
      "\n",
      "    accuracy                           0.51      2421\n",
      "   macro avg       0.45      0.45      0.45      2421\n",
      "weighted avg       0.51      0.51      0.51      2421\n",
      "\n"
     ]
    }
   ],
   "source": [
    "get_metrics(y_test, y_predicted)"
   ]
  },
  {
   "cell_type": "code",
   "execution_count": 9,
   "metadata": {},
   "outputs": [
    {
     "data": {
      "image/png": "[encoded data removed]",
      "text/plain": [
       "<Figure size 432x288 with 2 Axes>"
      ]
     },
     "metadata": {
      "needs_background": "light"
     },
     "output_type": "display_data"
    }
   ],
   "source": [
    "get_cm_plot(clf, X_test, y_test)"
   ]
  },
  {
   "cell_type": "markdown",
   "metadata": {},
   "source": [
    "### 3. Super Cleaned Text\n",
    "\n",
    "In this scenario, I cleaned the text deeper using `NLTK` to remove stop words and lemmatize text to see if the model can pick up more meaningful relationships between words and improve the performance. As expected (recommended not to heavily clean the text by **Tomas Mikolov**, see [here](https://groups.google.com/forum/#!msg/word2vec-toolkit/jPfyP6FoB94/tGzZxScO0GsJ) thanks to [**Jason Brownlee**](https://machinelearningmastery.com/clean-text-machine-learning-python/)), there was not much change comparing to the other models performing on full text."
   ]
  },
  {
   "cell_type": "code",
   "execution_count": 10,
   "metadata": {},
   "outputs": [],
   "source": [
    "tokenizer = RegexpTokenizer(r'\\w+')\n",
    "lemmatizer = WordNetLemmatizer()\n",
    "sk_vectorizer = TfidfVectorizer(strip_accents='ascii', max_df=0.5, min_df=5, max_features=5000)"
   ]
  },
  {
   "cell_type": "code",
   "execution_count": 11,
   "metadata": {},
   "outputs": [],
   "source": [
    "df_cleaned = df[[\"reviews\", \"labels\"]]\n",
    "df_cleaned[\"cleantxt\"] = df_cleaned[\"reviews\"].str.lower()\n",
    "df_cleaned[\"cleantxt\"] = df_cleaned[\"cleantxt\"].apply(lambda x: get_punct_removed(x))\n",
    "df_cleaned[\"cleantxt\"] = df_cleaned[\"cleantxt\"].apply(lambda x: tokenizer.tokenize(x))\n",
    "df_cleaned[\"cleantxt\"] = df_cleaned[\"cleantxt\"].apply(\n",
    "    lambda x: [word for word in x if word not in stopwords.words('english')])\n",
    "df_cleaned[\"cleantxt\"] = df_cleaned[\"cleantxt\"].apply(\n",
    "    lambda x: \" \".join([lemmatizer.lemmatize(word) for word in x]))"
   ]
  },
  {
   "cell_type": "code",
   "execution_count": 12,
   "metadata": {},
   "outputs": [],
   "source": [
    "train_df, test_df = train_test_split(df_cleaned, test_size=0.2, random_state=69)\n",
    "\n",
    "sk_vectorizer.fit(train_df[\"cleantxt\"])\n",
    "\n",
    "train_df[\"vectors\"] = get_vectors_list(train_df[\"cleantxt\"], sk_vectorizer)\n",
    "test_df[\"vectors\"] = get_vectors_list(test_df[\"cleantxt\"], sk_vectorizer)"
   ]
  },
  {
   "cell_type": "code",
   "execution_count": 13,
   "metadata": {},
   "outputs": [],
   "source": [
    "clf = RandomForestClassifier(n_estimators=100, class_weight='balanced', oob_score=True, n_jobs=2)\n",
    "\n",
    "X_train, y_train = get_features_and_labels(train_df)\n",
    "X_test, y_test = get_features_and_labels(test_df)\n",
    "\n",
    "clf.fit(X_train, y_train)\n",
    "\n",
    "y_predicted = clf.predict(X_test)"
   ]
  },
  {
   "cell_type": "code",
   "execution_count": 14,
   "metadata": {},
   "outputs": [
    {
     "name": "stdout",
     "output_type": "stream",
     "text": [
      "              precision    recall  f1-score   support\n",
      "\n",
      "           0       0.68      0.71      0.69       736\n",
      "           1       0.41      0.03      0.06       489\n",
      "           2       0.69      0.92      0.79      1196\n",
      "\n",
      "    accuracy                           0.68      2421\n",
      "   macro avg       0.59      0.56      0.51      2421\n",
      "weighted avg       0.63      0.68      0.61      2421\n",
      "\n"
     ]
    }
   ],
   "source": [
    "get_metrics(y_test, y_predicted)"
   ]
  },
  {
   "cell_type": "code",
   "execution_count": 15,
   "metadata": {},
   "outputs": [
    {
     "data": {
      "image/png": "[encoded data removed]",
      "text/plain": [
       "<Figure size 432x288 with 2 Axes>"
      ]
     },
     "metadata": {
      "needs_background": "light"
     },
     "output_type": "display_data"
    }
   ],
   "source": [
    "get_cm_plot(clf, X_test, y_test)"
   ]
  },
  {
   "cell_type": "code",
   "execution_count": null,
   "metadata": {},
   "outputs": [],
   "source": []
  }
 ],
 "metadata": {
  "kernelspec": {
   "display_name": "Python 3",
   "language": "python",
   "name": "python3"
  },
  "language_info": {
   "codemirror_mode": {
    "name": "ipython",
    "version": 3
   },
   "file_extension": ".py",
   "mimetype": "text/x-python",
   "name": "python",
   "nbconvert_exporter": "python",
   "pygments_lexer": "ipython3",
   "version": "3.8.2"
  }
 },
 "nbformat": 4,
 "nbformat_minor": 4
}
