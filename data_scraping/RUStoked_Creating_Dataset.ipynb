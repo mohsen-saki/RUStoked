{
 "cells": [
  {
   "cell_type": "markdown",
   "metadata": {},
   "source": [
    "# Creating Dataset\n",
    "\n",
    "To creat a dataset, I scrape reviews from [seek.com.au](https://www.seek.com.au/) for two companies __`Woolworth`__ and __`Coles`__ which both have a fair amount of reviews.\n",
    "\n",
    "To avoid `JavaScript` obstructions (downloading webpage source before target content is loaded) I use __`selenium`__ in combination with __`BeautifulSoup`__."
   ]
  },
  {
   "cell_type": "code",
   "execution_count": 39,
   "metadata": {},
   "outputs": [],
   "source": [
    "import requests\n",
    "from bs4 import BeautifulSoup\n",
    "from selenium import webdriver\n",
    "\n",
    "from datetime import datetime\n",
    "\n",
    "import csv"
   ]
  },
  {
   "cell_type": "markdown",
   "metadata": {},
   "source": [
    "### 'Woolworth' Reviews\n",
    "\n",
    "Having a look at Woolworth [reviews](https://www.seek.com.au/companies/woolworths-supermarkets-432295/reviews) it can be observed that:\n",
    "1. reviews are delivered over __96__ different pages\n",
    "2. each review link has `html tag <a>` and `class = '_2gLKVsp'`"
   ]
  },
  {
   "cell_type": "code",
   "execution_count": 3,
   "metadata": {},
   "outputs": [
    {
     "data": {
      "text/plain": [
       "'/companies/woolworths-supermarkets-432295/reviews/2276877'"
      ]
     },
     "execution_count": 3,
     "metadata": {},
     "output_type": "execute_result"
    }
   ],
   "source": [
    "content = requests.get('https://www.seek.com.au/companies/woolworths-supermarkets-432295/reviews')\n",
    "soup = BeautifulSoup(content.text, 'html.parser')\n",
    "links = soup.find('div', {'class' : '_1Y5kUMd'}).find_all('a', {'class' : '_2gLKVsp'})\n",
    "links[0]['href']"
   ]
  },
  {
   "cell_type": "markdown",
   "metadata": {},
   "source": [
    "Now let's scrape all the review links"
   ]
  },
  {
   "cell_type": "code",
   "execution_count": 4,
   "metadata": {
    "scrolled": false
   },
   "outputs": [],
   "source": [
    "browser = webdriver.Firefox()\n",
    "woolies = []\n",
    "\n",
    "for page in range(1, 97):\n",
    "    url = 'https://www.seek.com.au/companies/woolworths-supermarkets-432295/reviews?page={}'.format(page)\n",
    "    browser.get(url)\n",
    "    html = browser.page_source\n",
    "    soup = BeautifulSoup(html, 'html.parser')\n",
    "    links = soup.find('div', {'class' : '_1Y5kUMd'}).find_all('a', {'class' : '_2gLKVsp'})\n",
    "        \n",
    "    for link in links:\n",
    "        woolies.append(\"https://www.seek.com.au{}\".format(link['href']))"
   ]
  },
  {
   "cell_type": "markdown",
   "metadata": {
    "scrolled": false
   },
   "source": [
    "To save all the 1908 links in a file:"
   ]
  },
  {
   "cell_type": "code",
   "execution_count": 5,
   "metadata": {},
   "outputs": [],
   "source": [
    "with open('woolies_urls.txt', 'w') as file:\n",
    "    for url in woolies:\n",
    "        file.write('{}\\n'.format(url))"
   ]
  },
  {
   "cell_type": "code",
   "execution_count": 102,
   "metadata": {},
   "outputs": [
    {
     "data": {
      "text/plain": [
       "['https://www.seek.com.au/companies/woolworths-supermarkets-432295/reviews/2276877',\n",
       " 'https://www.seek.com.au/companies/woolworths-supermarkets-432295/reviews/256376',\n",
       " 'https://www.seek.com.au/companies/woolworths-supermarkets-432295/reviews/340048',\n",
       " 'https://www.seek.com.au/companies/woolworths-supermarkets-432295/reviews/277368',\n",
       " 'https://www.seek.com.au/companies/woolworths-supermarkets-432295/reviews/197028']"
      ]
     },
     "execution_count": 102,
     "metadata": {},
     "output_type": "execute_result"
    }
   ],
   "source": [
    "woolies[0:5]"
   ]
  },
  {
   "cell_type": "markdown",
   "metadata": {},
   "source": [
    "During scraping below, it happens often that process becomes interrupted probably because site is lagging behind to load completely while data is fetched. However, with one of errors it became known that one of linkes is faulty and should be removed from the list:\n",
    "\n",
    "`woolies[1277]`  \n",
    "`https://www.seek.com.au/companies/woolworths-supermarkets-432295/reviews/35519`"
   ]
  },
  {
   "cell_type": "code",
   "execution_count": 104,
   "metadata": {},
   "outputs": [
    {
     "data": {
      "text/plain": [
       "1908"
      ]
     },
     "execution_count": 104,
     "metadata": {},
     "output_type": "execute_result"
    }
   ],
   "source": [
    "len(woolies)"
   ]
  },
  {
   "cell_type": "code",
   "execution_count": 106,
   "metadata": {},
   "outputs": [
    {
     "data": {
      "text/plain": [
       "'https://www.seek.com.au/companies/woolworths-supermarkets-432295/reviews/35519'"
      ]
     },
     "execution_count": 106,
     "metadata": {},
     "output_type": "execute_result"
    }
   ],
   "source": [
    "woolies.pop(1277)"
   ]
  },
  {
   "cell_type": "code",
   "execution_count": 107,
   "metadata": {},
   "outputs": [
    {
     "data": {
      "text/plain": [
       "1907"
      ]
     },
     "execution_count": 107,
     "metadata": {},
     "output_type": "execute_result"
    }
   ],
   "source": [
    "len(woolies)"
   ]
  },
  {
   "cell_type": "markdown",
   "metadata": {},
   "source": [
    "Let's scrape reviews and some other data and save them in a `csv` format file."
   ]
  },
  {
   "cell_type": "code",
   "execution_count": null,
   "metadata": {
    "scrolled": true
   },
   "outputs": [],
   "source": [
    "browser = webdriver.Firefox()\n",
    "\n",
    "with open('RawData.csv', 'a+', newline='') as csvfile:\n",
    "    datawriter = csv.writer(csvfile, delimiter=',', quotechar='\"', quoting=csv.QUOTE_MINIMAL)\n",
    "\n",
    "    for url in woolies:\n",
    "        browser.get(url)\n",
    "        review = browser.page_source\n",
    "        soup = BeautifulSoup(review, 'html.parser')\n",
    "\n",
    "        company = 'Woolworths'\n",
    "        review = soup.find('span', {'data-automation' : 'reviewCardFull-pros'}).text + soup.find('span', {'data-automation' : 'reviewCardFull-cons'}).text\n",
    "        rating = soup.find('span', {'class' : '_1erK2ob'}).text\n",
    "        review_date = soup.find('span', {'class' : '_3FrNV7v _38Keb0I _2QG7TNq E6m4BZb'}).text\n",
    "        time_stamp = datetime.today().strftime('%Y, %B')\n",
    "        \n",
    "        datawriter.writerow([company, review, rating, review_date, time_stamp])"
   ]
  },
  {
   "cell_type": "code",
   "execution_count": 47,
   "metadata": {},
   "outputs": [],
   "source": [
    "import pandas as pd"
   ]
  },
  {
   "cell_type": "code",
   "execution_count": 110,
   "metadata": {},
   "outputs": [],
   "source": [
    "df=pd.read_csv('RawData.csv', header=None)"
   ]
  },
  {
   "cell_type": "code",
   "execution_count": 112,
   "metadata": {},
   "outputs": [
    {
     "data": {
      "text/html": [
       "<div>\n",
       "<style scoped>\n",
       "    .dataframe tbody tr th:only-of-type {\n",
       "        vertical-align: middle;\n",
       "    }\n",
       "\n",
       "    .dataframe tbody tr th {\n",
       "        vertical-align: top;\n",
       "    }\n",
       "\n",
       "    .dataframe thead th {\n",
       "        text-align: right;\n",
       "    }\n",
       "</style>\n",
       "<table border=\"1\" class=\"dataframe\">\n",
       "  <thead>\n",
       "    <tr style=\"text-align: right;\">\n",
       "      <th></th>\n",
       "      <th>0</th>\n",
       "      <th>1</th>\n",
       "      <th>2</th>\n",
       "      <th>3</th>\n",
       "      <th>4</th>\n",
       "    </tr>\n",
       "  </thead>\n",
       "  <tbody>\n",
       "    <tr>\n",
       "      <th>0</th>\n",
       "      <td>Woolworths</td>\n",
       "      <td>-Great working environment with very good supp...</td>\n",
       "      <td>5.0</td>\n",
       "      <td>2 years ago</td>\n",
       "      <td>2020, January</td>\n",
       "    </tr>\n",
       "    <tr>\n",
       "      <th>1</th>\n",
       "      <td>Woolworths</td>\n",
       "      <td>I enjoyed what I am doing, it's a tough job, b...</td>\n",
       "      <td>3.0</td>\n",
       "      <td>4 years ago</td>\n",
       "      <td>2020, January</td>\n",
       "    </tr>\n",
       "    <tr>\n",
       "      <th>2</th>\n",
       "      <td>Woolworths</td>\n",
       "      <td>Working with staff everyday. The ability to wo...</td>\n",
       "      <td>4.0</td>\n",
       "      <td>4 years ago</td>\n",
       "      <td>2020, January</td>\n",
       "    </tr>\n",
       "    <tr>\n",
       "      <th>3</th>\n",
       "      <td>Woolworths</td>\n",
       "      <td>Great opportunities for career advancement for...</td>\n",
       "      <td>4.0</td>\n",
       "      <td>4 years ago</td>\n",
       "      <td>2020, January</td>\n",
       "    </tr>\n",
       "    <tr>\n",
       "      <th>4</th>\n",
       "      <td>Woolworths</td>\n",
       "      <td>During peek sales periods; casuals get great h...</td>\n",
       "      <td>3.0</td>\n",
       "      <td>4 years ago</td>\n",
       "      <td>2020, January</td>\n",
       "    </tr>\n",
       "  </tbody>\n",
       "</table>\n",
       "</div>"
      ],
      "text/plain": [
       "            0                                                  1    2  \\\n",
       "0  Woolworths  -Great working environment with very good supp...  5.0   \n",
       "1  Woolworths  I enjoyed what I am doing, it's a tough job, b...  3.0   \n",
       "2  Woolworths  Working with staff everyday. The ability to wo...  4.0   \n",
       "3  Woolworths  Great opportunities for career advancement for...  4.0   \n",
       "4  Woolworths  During peek sales periods; casuals get great h...  3.0   \n",
       "\n",
       "             3              4  \n",
       "0  2 years ago  2020, January  \n",
       "1  4 years ago  2020, January  \n",
       "2  4 years ago  2020, January  \n",
       "3  4 years ago  2020, January  \n",
       "4  4 years ago  2020, January  "
      ]
     },
     "execution_count": 112,
     "metadata": {},
     "output_type": "execute_result"
    }
   ],
   "source": [
    "df.head()"
   ]
  }
 ],
 "metadata": {
  "kernelspec": {
   "display_name": "Python 3",
   "language": "python",
   "name": "python3"
  },
  "language_info": {
   "codemirror_mode": {
    "name": "ipython",
    "version": 3
   },
   "file_extension": ".py",
   "mimetype": "text/x-python",
   "name": "python",
   "nbconvert_exporter": "python",
   "pygments_lexer": "ipython3",
   "version": "3.7.5"
  }
 },
 "nbformat": 4,
 "nbformat_minor": 2
}
