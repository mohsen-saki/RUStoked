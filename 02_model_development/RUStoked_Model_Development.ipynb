{
 "cells": [
  {
   "cell_type": "code",
   "execution_count": 260,
   "metadata": {},
   "outputs": [],
   "source": [
    "import pandas as pd\n",
    "import numpy as np\n",
    "import pickle\n",
    "from time import time\n",
    "\n",
    "# utility imports\n",
    "from sklearn.model_selection import train_test_split\n",
    "from sklearn.model_selection import GridSearchCV\n",
    "from sklearn.model_selection import RandomizedSearchCV\n",
    "from sklearn.pipeline import Pipeline\n",
    "from sklearn.feature_extraction.text import TfidfVectorizer\n",
    "\n",
    "# Classifier imports\n",
    "from sklearn.ensemble import RandomForestClassifier\n",
    "from sklearn.ensemble import GradientBoostingClassifier\n",
    "from sklearn.linear_model import LogisticRegression\n",
    "from sklearn import svm\n",
    "from sklearn.naive_bayes import MultinomialNB\n",
    "from sklearn.neighbors import KNeighborsClassifier\n",
    "\n",
    "# \"gensim\" modules\n",
    "from gensim.sklearn_api import W2VTransformer\n",
    "\n",
    "from nltk.tokenize import word_tokenize"
   ]
  },
  {
   "cell_type": "code",
   "execution_count": 124,
   "metadata": {},
   "outputs": [],
   "source": [
    "with open('../01_data_preparation/pickle_cleaned_data', 'rb') as data:\n",
    "    df = pickle.load(data)"
   ]
  },
  {
   "cell_type": "code",
   "execution_count": 125,
   "metadata": {},
   "outputs": [
    {
     "data": {
      "text/html": [
       "<div>\n",
       "<style scoped>\n",
       "    .dataframe tbody tr th:only-of-type {\n",
       "        vertical-align: middle;\n",
       "    }\n",
       "\n",
       "    .dataframe tbody tr th {\n",
       "        vertical-align: top;\n",
       "    }\n",
       "\n",
       "    .dataframe thead th {\n",
       "        text-align: right;\n",
       "    }\n",
       "</style>\n",
       "<table border=\"1\" class=\"dataframe\">\n",
       "  <thead>\n",
       "    <tr style=\"text-align: right;\">\n",
       "      <th></th>\n",
       "      <th>review_cleaned</th>\n",
       "      <th>sentiment_category</th>\n",
       "    </tr>\n",
       "  </thead>\n",
       "  <tbody>\n",
       "    <tr>\n",
       "      <th>0</th>\n",
       "      <td>great working environment good support co work...</td>\n",
       "      <td>2</td>\n",
       "    </tr>\n",
       "    <tr>\n",
       "      <th>1</th>\n",
       "      <td>enjoyed tough job but loved camaraderie within...</td>\n",
       "      <td>1</td>\n",
       "    </tr>\n",
       "    <tr>\n",
       "      <th>2</th>\n",
       "      <td>working staff everyday ability work different ...</td>\n",
       "      <td>2</td>\n",
       "    </tr>\n",
       "    <tr>\n",
       "      <th>3</th>\n",
       "      <td>great opportunity career advancement right peo...</td>\n",
       "      <td>2</td>\n",
       "    </tr>\n",
       "    <tr>\n",
       "      <th>4</th>\n",
       "      <td>peek sale period casuals get great hour manage...</td>\n",
       "      <td>1</td>\n",
       "    </tr>\n",
       "  </tbody>\n",
       "</table>\n",
       "</div>"
      ],
      "text/plain": [
       "                                      review_cleaned  sentiment_category\n",
       "0  great working environment good support co work...                   2\n",
       "1  enjoyed tough job but loved camaraderie within...                   1\n",
       "2  working staff everyday ability work different ...                   2\n",
       "3  great opportunity career advancement right peo...                   2\n",
       "4  peek sale period casuals get great hour manage...                   1"
      ]
     },
     "execution_count": 125,
     "metadata": {},
     "output_type": "execute_result"
    }
   ],
   "source": [
    "df.head()"
   ]
  },
  {
   "cell_type": "code",
   "execution_count": 126,
   "metadata": {},
   "outputs": [],
   "source": [
    "reviews_train, reviews_test, rating_train_target, rating_test_target = train_test_split(\n",
    "    df['review_cleaned'], \n",
    "    df['sentiment_category'], \n",
    "    test_size=0.4, \n",
    "    random_state=69, \n",
    "    shuffle=True)"
   ]
  },
  {
   "cell_type": "markdown",
   "metadata": {},
   "source": [
    "following model `parameters` have been manually altered one by one or two by two and run through `GridSearchCV()` for optimized parameters (Running grid search on all parameters option is highly time and resource consuming for a mid-level PC)"
   ]
  },
  {
   "cell_type": "markdown",
   "metadata": {},
   "source": [
    "# 1. Random Forest"
   ]
  },
  {
   "cell_type": "code",
   "execution_count": 127,
   "metadata": {},
   "outputs": [],
   "source": [
    "pipeline = Pipeline([\n",
    "    ('tfidf', TfidfVectorizer()), \n",
    "    ('RFclf', RandomForestClassifier(random_state=69))\n",
    "])\n",
    "\n",
    "parameters = {\n",
    "    'tfidf__lowercase': (False,),\n",
    "    'tfidf__ngram_range': ((1, 2),), \n",
    "    'tfidf__max_df': (0.5,), \n",
    "    'tfidf__min_df': (1,), \n",
    "    'tfidf__max_features': (5000,), \n",
    "    'tfidf__norm': ('l2',), \n",
    "    'tfidf__use_idf': (True,), \n",
    "    'RFclf__n_estimators': (100,), \n",
    "    'RFclf__max_depth': (100,), \n",
    "    'RFclf__min_samples_split': (5,),\n",
    "    'RFclf__min_samples_leaf': (1,), \n",
    "    'RFclf__max_features': ('auto',), \n",
    "    'RFclf__bootstrap': (True,)\n",
    "}"
   ]
  },
  {
   "cell_type": "code",
   "execution_count": 128,
   "metadata": {},
   "outputs": [
    {
     "name": "stdout",
     "output_type": "stream",
     "text": [
      "Fitting 5 folds for each of 1 candidates, totalling 5 fits\n"
     ]
    },
    {
     "name": "stderr",
     "output_type": "stream",
     "text": [
      "[Parallel(n_jobs=-1)]: Using backend LokyBackend with 2 concurrent workers.\n",
      "[Parallel(n_jobs=-1)]: Done   5 out of   5 | elapsed:   13.9s remaining:    0.0s\n",
      "[Parallel(n_jobs=-1)]: Done   5 out of   5 | elapsed:   13.9s finished\n"
     ]
    },
    {
     "name": "stdout",
     "output_type": "stream",
     "text": [
      "done in 15.715s\n"
     ]
    }
   ],
   "source": [
    "if __name__ == \"__main__\":\n",
    "    #rand_search = RandomizedSearchCV(pipeline, parameters, n_iter=100, n_jobs=-1, verbose=2)\n",
    "    grid_search = GridSearchCV(pipeline, parameters, scoring='accuracy', n_jobs=-1, verbose=2)\n",
    "    t0 = time()\n",
    "    #rand_search.fit(reviews_train, rating_train_target)\n",
    "    grid_search.fit(reviews_train, rating_train_target)\n",
    "    print(\"done in %0.3fs\" % (time() - t0))"
   ]
  },
  {
   "cell_type": "code",
   "execution_count": 129,
   "metadata": {},
   "outputs": [
    {
     "name": "stdout",
     "output_type": "stream",
     "text": [
      "0.627\n"
     ]
    }
   ],
   "source": [
    "print(\"{:0.3f}\".format(grid_search.best_score_))"
   ]
  },
  {
   "cell_type": "code",
   "execution_count": 130,
   "metadata": {},
   "outputs": [
    {
     "data": {
      "text/plain": [
       "{'RFclf__bootstrap': True,\n",
       " 'RFclf__max_depth': 100,\n",
       " 'RFclf__max_features': 'auto',\n",
       " 'RFclf__min_samples_leaf': 1,\n",
       " 'RFclf__min_samples_split': 5,\n",
       " 'RFclf__n_estimators': 100,\n",
       " 'tfidf__lowercase': False,\n",
       " 'tfidf__max_df': 0.5,\n",
       " 'tfidf__max_features': 5000,\n",
       " 'tfidf__min_df': 1,\n",
       " 'tfidf__ngram_range': (1, 2),\n",
       " 'tfidf__norm': 'l2',\n",
       " 'tfidf__use_idf': True}"
      ]
     },
     "execution_count": 130,
     "metadata": {},
     "output_type": "execute_result"
    }
   ],
   "source": [
    "grid_search.best_params_"
   ]
  },
  {
   "cell_type": "code",
   "execution_count": 132,
   "metadata": {},
   "outputs": [
    {
     "data": {
      "text/plain": [
       "0.6083123425692695"
      ]
     },
     "execution_count": 132,
     "metadata": {},
     "output_type": "execute_result"
    }
   ],
   "source": [
    "grid_search.score(reviews_test, rating_test_target)"
   ]
  },
  {
   "cell_type": "markdown",
   "metadata": {},
   "source": [
    "# 2. Logistic Regression"
   ]
  },
  {
   "cell_type": "code",
   "execution_count": 170,
   "metadata": {},
   "outputs": [],
   "source": [
    "pipeline = Pipeline([\n",
    "    ('tfidf', TfidfVectorizer()), \n",
    "    ('LRclf', LogisticRegression(random_state=69))\n",
    "])\n",
    "\n",
    "parameters = {\n",
    "    'tfidf__lowercase': (False,),\n",
    "    'tfidf__ngram_range': ((1, 2),), \n",
    "    'tfidf__max_df': (0.5,), \n",
    "    'tfidf__min_df': (1,), \n",
    "    'tfidf__max_features': (5000,), \n",
    "    'tfidf__norm': ('l2',), \n",
    "    'tfidf__use_idf': (True,), \n",
    "    'LRclf__penalty': ('l2',),\n",
    "    'LRclf__C': (1,), \n",
    "    'LRclf__class_weight': (None,), \n",
    "    'LRclf__solver': ('lbfgs',), \n",
    "    'LRclf__multi_class': ('auto',),\n",
    "}"
   ]
  },
  {
   "cell_type": "code",
   "execution_count": 166,
   "metadata": {
    "scrolled": false
   },
   "outputs": [
    {
     "name": "stdout",
     "output_type": "stream",
     "text": [
      "Fitting 5 folds for each of 2 candidates, totalling 10 fits\n"
     ]
    },
    {
     "name": "stderr",
     "output_type": "stream",
     "text": [
      "[Parallel(n_jobs=-1)]: Using backend LokyBackend with 2 concurrent workers.\n",
      "[Parallel(n_jobs=-1)]: Done  10 out of  10 | elapsed:    3.8s finished\n"
     ]
    },
    {
     "name": "stdout",
     "output_type": "stream",
     "text": [
      "done in 4.408s\n"
     ]
    }
   ],
   "source": [
    "if __name__ == \"__main__\":\n",
    "    grid_search = GridSearchCV(pipeline, parameters, scoring='accuracy', n_jobs=-1, verbose=2)\n",
    "    t0 = time()\n",
    "    grid_search.fit(reviews_train, rating_train_target)\n",
    "    print(\"done in %0.3fs\" % (time() - t0))"
   ]
  },
  {
   "cell_type": "code",
   "execution_count": 167,
   "metadata": {},
   "outputs": [
    {
     "name": "stdout",
     "output_type": "stream",
     "text": [
      "0.631\n"
     ]
    }
   ],
   "source": [
    "print(\"{:0.3f}\".format(grid_search.best_score_))"
   ]
  },
  {
   "cell_type": "code",
   "execution_count": 168,
   "metadata": {},
   "outputs": [
    {
     "data": {
      "text/plain": [
       "{'LRclf__C': 1,\n",
       " 'LRclf__class_weight': None,\n",
       " 'LRclf__multi_class': 'auto',\n",
       " 'LRclf__penalty': 'l2',\n",
       " 'LRclf__solver': 'lbfgs',\n",
       " 'tfidf__lowercase': False,\n",
       " 'tfidf__max_df': 0.5,\n",
       " 'tfidf__max_features': 5000,\n",
       " 'tfidf__min_df': 1,\n",
       " 'tfidf__ngram_range': (1, 2),\n",
       " 'tfidf__norm': 'l2',\n",
       " 'tfidf__use_idf': True}"
      ]
     },
     "execution_count": 168,
     "metadata": {},
     "output_type": "execute_result"
    }
   ],
   "source": [
    "grid_search.best_params_"
   ]
  },
  {
   "cell_type": "code",
   "execution_count": 169,
   "metadata": {},
   "outputs": [
    {
     "data": {
      "text/plain": [
       "0.6385390428211587"
      ]
     },
     "execution_count": 169,
     "metadata": {},
     "output_type": "execute_result"
    }
   ],
   "source": [
    "grid_search.score(reviews_test, rating_test_target)"
   ]
  },
  {
   "cell_type": "markdown",
   "metadata": {},
   "source": [
    "# 3. Spport Vector Machine"
   ]
  },
  {
   "cell_type": "code",
   "execution_count": 192,
   "metadata": {},
   "outputs": [],
   "source": [
    "pipeline = Pipeline([\n",
    "    ('tfidf', TfidfVectorizer()), \n",
    "    ('SVMclf', svm.SVC(random_state=69))\n",
    "])\n",
    "\n",
    "parameters = {\n",
    "    'tfidf__lowercase': (False,),\n",
    "    'tfidf__ngram_range': ((1, 2),), \n",
    "    'tfidf__max_df': (0.5,), \n",
    "    'tfidf__min_df': (1,), \n",
    "    'tfidf__max_features': (5000,), \n",
    "    'tfidf__norm': ('l2',), \n",
    "    'tfidf__use_idf': (True,), \n",
    "    'SVMclf__C': (1,), \n",
    "    'SVMclf__kernel': ('rbf',), \n",
    "    'SVMclf__degree': (1,), \n",
    "    'SVMclf__gamma': ('scale',), \n",
    "}"
   ]
  },
  {
   "cell_type": "code",
   "execution_count": 188,
   "metadata": {
    "scrolled": false
   },
   "outputs": [
    {
     "name": "stdout",
     "output_type": "stream",
     "text": [
      "Fitting 5 folds for each of 5 candidates, totalling 25 fits\n"
     ]
    },
    {
     "name": "stderr",
     "output_type": "stream",
     "text": [
      "[Parallel(n_jobs=-1)]: Using backend LokyBackend with 2 concurrent workers.\n",
      "[Parallel(n_jobs=-1)]: Done  25 out of  25 | elapsed:   22.5s finished\n"
     ]
    },
    {
     "name": "stdout",
     "output_type": "stream",
     "text": [
      "done in 24.620s\n"
     ]
    }
   ],
   "source": [
    "if __name__ == \"__main__\":\n",
    "    grid_search = GridSearchCV(pipeline, parameters, scoring='accuracy', n_jobs=-1, verbose=2)\n",
    "    t0 = time()\n",
    "    grid_search.fit(reviews_train, rating_train_target)\n",
    "    print(\"done in %0.3fs\" % (time() - t0))"
   ]
  },
  {
   "cell_type": "code",
   "execution_count": 189,
   "metadata": {},
   "outputs": [
    {
     "name": "stdout",
     "output_type": "stream",
     "text": [
      "0.634\n"
     ]
    }
   ],
   "source": [
    "print(\"{:0.3f}\".format(grid_search.best_score_))"
   ]
  },
  {
   "cell_type": "code",
   "execution_count": 190,
   "metadata": {},
   "outputs": [
    {
     "data": {
      "text/plain": [
       "{'SVMclf__C': 1,\n",
       " 'SVMclf__degree': 1,\n",
       " 'SVMclf__gamma': 'scale',\n",
       " 'SVMclf__kernel': 'rbf',\n",
       " 'tfidf__lowercase': False,\n",
       " 'tfidf__max_df': 0.5,\n",
       " 'tfidf__max_features': 5000,\n",
       " 'tfidf__min_df': 1,\n",
       " 'tfidf__ngram_range': (1, 2),\n",
       " 'tfidf__norm': 'l2',\n",
       " 'tfidf__use_idf': True}"
      ]
     },
     "execution_count": 190,
     "metadata": {},
     "output_type": "execute_result"
    }
   ],
   "source": [
    "grid_search.best_params_"
   ]
  },
  {
   "cell_type": "code",
   "execution_count": 191,
   "metadata": {},
   "outputs": [
    {
     "data": {
      "text/plain": [
       "0.6353904282115869"
      ]
     },
     "execution_count": 191,
     "metadata": {},
     "output_type": "execute_result"
    }
   ],
   "source": [
    "grid_search.score(reviews_test, rating_test_target)"
   ]
  },
  {
   "cell_type": "markdown",
   "metadata": {},
   "source": [
    "# 4. Multinomial Naïve Bayes"
   ]
  },
  {
   "cell_type": "code",
   "execution_count": 205,
   "metadata": {},
   "outputs": [],
   "source": [
    "pipeline = Pipeline([\n",
    "    ('tfidf', TfidfVectorizer()), \n",
    "    ('NBclf', MultinomialNB())\n",
    "])\n",
    "\n",
    "parameters = {\n",
    "    'tfidf__lowercase': (False,),\n",
    "    'tfidf__ngram_range': ((1, 2),), \n",
    "    'tfidf__max_df': (0.5,), \n",
    "    'tfidf__min_df': (1,), \n",
    "    'tfidf__max_features': (5000,), \n",
    "    'tfidf__norm': ('l2',), \n",
    "    'tfidf__use_idf': (True,), \n",
    "    'NBclf__alpha': (1,), \n",
    "    'NBclf__fit_prior': (False,), \n",
    "}"
   ]
  },
  {
   "cell_type": "code",
   "execution_count": 206,
   "metadata": {},
   "outputs": [
    {
     "name": "stdout",
     "output_type": "stream",
     "text": [
      "Fitting 5 folds for each of 1 candidates, totalling 5 fits\n"
     ]
    },
    {
     "name": "stderr",
     "output_type": "stream",
     "text": [
      "[Parallel(n_jobs=-1)]: Using backend LokyBackend with 2 concurrent workers.\n"
     ]
    },
    {
     "name": "stdout",
     "output_type": "stream",
     "text": [
      "done in 0.880s\n"
     ]
    },
    {
     "name": "stderr",
     "output_type": "stream",
     "text": [
      "[Parallel(n_jobs=-1)]: Done   5 out of   5 | elapsed:    0.7s remaining:    0.0s\n",
      "[Parallel(n_jobs=-1)]: Done   5 out of   5 | elapsed:    0.7s finished\n"
     ]
    }
   ],
   "source": [
    "if __name__ == \"__main__\":\n",
    "    grid_search = GridSearchCV(pipeline, parameters, scoring='accuracy', n_jobs=-1, verbose=2)\n",
    "    t0 = time()\n",
    "    grid_search.fit(reviews_train, rating_train_target)\n",
    "    print(\"done in %0.3fs\" % (time() - t0))"
   ]
  },
  {
   "cell_type": "code",
   "execution_count": 207,
   "metadata": {},
   "outputs": [
    {
     "name": "stdout",
     "output_type": "stream",
     "text": [
      "0.629\n"
     ]
    }
   ],
   "source": [
    "print(\"{:0.3f}\".format(grid_search.best_score_))"
   ]
  },
  {
   "cell_type": "code",
   "execution_count": 208,
   "metadata": {},
   "outputs": [
    {
     "data": {
      "text/plain": [
       "{'NBclf__alpha': 1,\n",
       " 'NBclf__fit_prior': False,\n",
       " 'tfidf__lowercase': False,\n",
       " 'tfidf__max_df': 0.5,\n",
       " 'tfidf__max_features': 5000,\n",
       " 'tfidf__min_df': 1,\n",
       " 'tfidf__ngram_range': (1, 2),\n",
       " 'tfidf__norm': 'l2',\n",
       " 'tfidf__use_idf': True}"
      ]
     },
     "execution_count": 208,
     "metadata": {},
     "output_type": "execute_result"
    }
   ],
   "source": [
    "grid_search.best_params_"
   ]
  },
  {
   "cell_type": "code",
   "execution_count": 209,
   "metadata": {},
   "outputs": [
    {
     "data": {
      "text/plain": [
       "0.6265743073047859"
      ]
     },
     "execution_count": 209,
     "metadata": {},
     "output_type": "execute_result"
    }
   ],
   "source": [
    "grid_search.score(reviews_test, rating_test_target)"
   ]
  },
  {
   "cell_type": "markdown",
   "metadata": {},
   "source": [
    "# 5. K Nearest Neighbors"
   ]
  },
  {
   "cell_type": "code",
   "execution_count": 258,
   "metadata": {},
   "outputs": [],
   "source": [
    "pipeline = Pipeline([\n",
    "    ('tfidf', TfidfVectorizer()), \n",
    "    ('KNNclf', KNeighborsClassifier())\n",
    "])\n",
    "\n",
    "parameters = {\n",
    "    'tfidf__lowercase': (False,),\n",
    "    'tfidf__ngram_range': ((1, 2),), \n",
    "    'tfidf__max_df': (0.5,), \n",
    "    'tfidf__min_df': (1,), \n",
    "    'tfidf__max_features': (5000,), \n",
    "    'tfidf__norm': ('l2',), \n",
    "    'tfidf__use_idf': (True,), \n",
    "    'KNNclf__n_neighbors': (30,), \n",
    "    'KNNclf__weights': ('distance',),\n",
    "    'KNNclf__algorithm': ('auto',), \n",
    "    'KNNclf__leaf_size': (30,), \n",
    "    'KNNclf__p': (2,),\n",
    "}"
   ]
  },
  {
   "cell_type": "code",
   "execution_count": 254,
   "metadata": {},
   "outputs": [
    {
     "name": "stdout",
     "output_type": "stream",
     "text": [
      "Fitting 5 folds for each of 2 candidates, totalling 10 fits\n"
     ]
    },
    {
     "name": "stderr",
     "output_type": "stream",
     "text": [
      "[Parallel(n_jobs=-1)]: Using backend LokyBackend with 2 concurrent workers.\n"
     ]
    },
    {
     "name": "stdout",
     "output_type": "stream",
     "text": [
      "done in 1.757s\n"
     ]
    },
    {
     "name": "stderr",
     "output_type": "stream",
     "text": [
      "[Parallel(n_jobs=-1)]: Done  10 out of  10 | elapsed:    1.6s finished\n"
     ]
    }
   ],
   "source": [
    "if __name__ == \"__main__\":\n",
    "    grid_search = GridSearchCV(pipeline, parameters, scoring='accuracy', n_jobs=-1, verbose=2)\n",
    "    t0 = time()\n",
    "    grid_search.fit(reviews_train, rating_train_target)\n",
    "    print(\"done in %0.3fs\" % (time() - t0))"
   ]
  },
  {
   "cell_type": "code",
   "execution_count": 255,
   "metadata": {},
   "outputs": [
    {
     "name": "stdout",
     "output_type": "stream",
     "text": [
      "0.615\n"
     ]
    }
   ],
   "source": [
    "print(\"{:0.3f}\".format(grid_search.best_score_))"
   ]
  },
  {
   "cell_type": "code",
   "execution_count": 256,
   "metadata": {},
   "outputs": [
    {
     "data": {
      "text/plain": [
       "{'KNNclf__algorithm': 'auto',\n",
       " 'KNNclf__leaf_size': 30,\n",
       " 'KNNclf__n_neighbors': 30,\n",
       " 'KNNclf__p': 2,\n",
       " 'KNNclf__weights': 'distance',\n",
       " 'tfidf__lowercase': False,\n",
       " 'tfidf__max_df': 0.5,\n",
       " 'tfidf__max_features': 5000,\n",
       " 'tfidf__min_df': 1,\n",
       " 'tfidf__ngram_range': (1, 2),\n",
       " 'tfidf__norm': 'l2',\n",
       " 'tfidf__use_idf': True}"
      ]
     },
     "execution_count": 256,
     "metadata": {},
     "output_type": "execute_result"
    }
   ],
   "source": [
    "grid_search.best_params_"
   ]
  },
  {
   "cell_type": "code",
   "execution_count": 257,
   "metadata": {},
   "outputs": [
    {
     "data": {
      "text/plain": [
       "0.6001259445843828"
      ]
     },
     "execution_count": 257,
     "metadata": {},
     "output_type": "execute_result"
    }
   ],
   "source": [
    "grid_search.score(reviews_test, rating_test_target)"
   ]
  },
  {
   "cell_type": "markdown",
   "metadata": {},
   "source": [
    "# 6. Gradient Boosting"
   ]
  },
  {
   "cell_type": "code",
   "execution_count": 298,
   "metadata": {},
   "outputs": [],
   "source": [
    "pipeline = Pipeline([\n",
    "    ('tfidf', TfidfVectorizer()), \n",
    "    ('GBclf', GradientBoostingClassifier(random_state=69))\n",
    "])\n",
    "\n",
    "parameters = {\n",
    "    'tfidf__lowercase': (False,),\n",
    "    'tfidf__ngram_range': ((1, 2),), \n",
    "    'tfidf__max_df': (0.5,), \n",
    "    'tfidf__min_df': (1,), \n",
    "    'tfidf__max_features': (5000,), \n",
    "    'tfidf__norm': ('l2',), \n",
    "    'tfidf__use_idf': (True,), \n",
    "    'GBclf__loss': ('deviance',), \n",
    "    'GBclf__learning_rate': (0.1,), \n",
    "    'GBclf__n_estimators': (200,), \n",
    "    'GBclf__min_samples_split': (50, 100), \n",
    "    'GBclf__min_samples_leaf': (2,),\n",
    "    'GBclf__max_depth': (1, 3, 5), \n",
    "    'GBclf__max_features': ('sqrt',)\n",
    "    \n",
    "}"
   ]
  },
  {
   "cell_type": "code",
   "execution_count": 299,
   "metadata": {
    "scrolled": false
   },
   "outputs": [
    {
     "name": "stdout",
     "output_type": "stream",
     "text": [
      "Fitting 5 folds for each of 6 candidates, totalling 30 fits\n"
     ]
    },
    {
     "name": "stderr",
     "output_type": "stream",
     "text": [
      "[Parallel(n_jobs=-1)]: Using backend LokyBackend with 2 concurrent workers.\n",
      "[Parallel(n_jobs=-1)]: Done  30 out of  30 | elapsed:   32.8s finished\n"
     ]
    },
    {
     "name": "stdout",
     "output_type": "stream",
     "text": [
      "done in 34.957s\n"
     ]
    }
   ],
   "source": [
    "if __name__ == \"__main__\":\n",
    "    grid_search = GridSearchCV(pipeline, parameters, scoring='accuracy', n_jobs=-1, verbose=2)\n",
    "    t0 = time()\n",
    "    grid_search.fit(reviews_train, rating_train_target)\n",
    "    print(\"done in %0.3fs\" % (time() - t0))"
   ]
  },
  {
   "cell_type": "code",
   "execution_count": 300,
   "metadata": {},
   "outputs": [
    {
     "name": "stdout",
     "output_type": "stream",
     "text": [
      "0.606\n"
     ]
    }
   ],
   "source": [
    "print(\"{:0.3f}\".format(grid_search.best_score_))"
   ]
  },
  {
   "cell_type": "code",
   "execution_count": 301,
   "metadata": {},
   "outputs": [
    {
     "data": {
      "text/plain": [
       "{'GBclf__learning_rate': 0.1,\n",
       " 'GBclf__loss': 'deviance',\n",
       " 'GBclf__max_depth': 3,\n",
       " 'GBclf__max_features': 'sqrt',\n",
       " 'GBclf__min_samples_leaf': 2,\n",
       " 'GBclf__min_samples_split': 100,\n",
       " 'GBclf__n_estimators': 200,\n",
       " 'tfidf__lowercase': False,\n",
       " 'tfidf__max_df': 0.5,\n",
       " 'tfidf__max_features': 5000,\n",
       " 'tfidf__min_df': 1,\n",
       " 'tfidf__ngram_range': (1, 2),\n",
       " 'tfidf__norm': 'l2',\n",
       " 'tfidf__use_idf': True}"
      ]
     },
     "execution_count": 301,
     "metadata": {},
     "output_type": "execute_result"
    }
   ],
   "source": [
    "grid_search.best_params_"
   ]
  },
  {
   "cell_type": "code",
   "execution_count": 302,
   "metadata": {},
   "outputs": [
    {
     "data": {
      "text/plain": [
       "0.6051637279596978"
      ]
     },
     "execution_count": 302,
     "metadata": {},
     "output_type": "execute_result"
    }
   ],
   "source": [
    "grid_search.score(reviews_test, rating_test_target)"
   ]
  },
  {
   "cell_type": "code",
   "execution_count": null,
   "metadata": {},
   "outputs": [],
   "source": []
  }
 ],
 "metadata": {
  "kernelspec": {
   "display_name": "Python 3",
   "language": "python",
   "name": "python3"
  },
  "language_info": {
   "codemirror_mode": {
    "name": "ipython",
    "version": 3
   },
   "file_extension": ".py",
   "mimetype": "text/x-python",
   "name": "python",
   "nbconvert_exporter": "python",
   "pygments_lexer": "ipython3",
   "version": "3.7.5"
  }
 },
 "nbformat": 4,
 "nbformat_minor": 2
}
