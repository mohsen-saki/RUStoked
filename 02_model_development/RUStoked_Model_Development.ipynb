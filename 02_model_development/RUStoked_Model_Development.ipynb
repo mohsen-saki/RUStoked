{
 "cells": [
  {
   "cell_type": "code",
   "execution_count": 4,
   "metadata": {},
   "outputs": [],
   "source": [
    "import pandas as pd\n",
    "import pickle\n",
    "from time import time\n",
    "\n",
    "# utility imports\n",
    "from sklearn.model_selection import train_test_split\n",
    "from sklearn.model_selection import GridSearchCV\n",
    "from sklearn.model_selection import RandomizedSearchCV\n",
    "from sklearn.pipeline import Pipeline\n",
    "from sklearn.feature_extraction.text import TfidfVectorizer\n",
    "\n",
    "# Classifier imports\n",
    "from sklearn.ensemble import RandomForestClassifier"
   ]
  },
  {
   "cell_type": "code",
   "execution_count": 5,
   "metadata": {},
   "outputs": [],
   "source": [
    "with open('../01_data_preparation/pickle_cleaned_data', 'rb') as data:\n",
    "    df = pickle.load(data)"
   ]
  },
  {
   "cell_type": "code",
   "execution_count": 6,
   "metadata": {},
   "outputs": [
    {
     "data": {
      "text/html": [
       "<div>\n",
       "<style scoped>\n",
       "    .dataframe tbody tr th:only-of-type {\n",
       "        vertical-align: middle;\n",
       "    }\n",
       "\n",
       "    .dataframe tbody tr th {\n",
       "        vertical-align: top;\n",
       "    }\n",
       "\n",
       "    .dataframe thead th {\n",
       "        text-align: right;\n",
       "    }\n",
       "</style>\n",
       "<table border=\"1\" class=\"dataframe\">\n",
       "  <thead>\n",
       "    <tr style=\"text-align: right;\">\n",
       "      <th></th>\n",
       "      <th>review_cleaned</th>\n",
       "      <th>rating</th>\n",
       "    </tr>\n",
       "  </thead>\n",
       "  <tbody>\n",
       "    <tr>\n",
       "      <th>0</th>\n",
       "      <td>great working environment good support co work...</td>\n",
       "      <td>5.0</td>\n",
       "    </tr>\n",
       "    <tr>\n",
       "      <th>1</th>\n",
       "      <td>enjoyed tough job but loved camaraderie within...</td>\n",
       "      <td>3.0</td>\n",
       "    </tr>\n",
       "    <tr>\n",
       "      <th>2</th>\n",
       "      <td>working staff everyday ability work different ...</td>\n",
       "      <td>4.0</td>\n",
       "    </tr>\n",
       "    <tr>\n",
       "      <th>3</th>\n",
       "      <td>great opportunity career advancement right peo...</td>\n",
       "      <td>4.0</td>\n",
       "    </tr>\n",
       "    <tr>\n",
       "      <th>4</th>\n",
       "      <td>peek sale period casuals get great hour manage...</td>\n",
       "      <td>3.0</td>\n",
       "    </tr>\n",
       "  </tbody>\n",
       "</table>\n",
       "</div>"
      ],
      "text/plain": [
       "                                      review_cleaned  rating\n",
       "0  great working environment good support co work...     5.0\n",
       "1  enjoyed tough job but loved camaraderie within...     3.0\n",
       "2  working staff everyday ability work different ...     4.0\n",
       "3  great opportunity career advancement right peo...     4.0\n",
       "4  peek sale period casuals get great hour manage...     3.0"
      ]
     },
     "execution_count": 6,
     "metadata": {},
     "output_type": "execute_result"
    }
   ],
   "source": [
    "df.head()"
   ]
  },
  {
   "cell_type": "code",
   "execution_count": 7,
   "metadata": {},
   "outputs": [],
   "source": [
    "reviews_train, reviews_test, rating_train_target, rating_test_target = train_test_split(\n",
    "    df['review_cleaned'], \n",
    "    df['rating'], \n",
    "    test_size=0.4, \n",
    "    random_state=69, \n",
    "    shuffle=True)"
   ]
  },
  {
   "cell_type": "code",
   "execution_count": 19,
   "metadata": {},
   "outputs": [],
   "source": [
    "pipeline = Pipeline([\n",
    "    ('tfidf', TfidfVectorizer()), \n",
    "    ('RFclf', RandomForestClassifier(random_state=69))\n",
    "])\n",
    "\n",
    "parameters = {\n",
    "    'tfidf__lowercase': (False,),\n",
    "    'tfidf__ngram_range': ((1, 1), (1, 2)), \n",
    "    #'tfidf__max_df': (0.5, 0.75, 1), \n",
    "    #'tfidf__min_df': (1, 10, 50), \n",
    "    #'tfidf__max_features': (None, 300, 600, 1000), \n",
    "    'tfidf__norm': ('l1', 'l2'), \n",
    "    'tfidf__use_idf': (True, False), \n",
    "    'RFclf__n_estimators': (100, 500, 1000), \n",
    "    'RFclf__max_depth': (None, 2, 10, 50, 100), \n",
    "    'RFclf__min_samples_split': (2, 5, 10),\n",
    "    'RFclf__min_samples_leaf': (1, 2, 4), \n",
    "    'RFclf__max_features': ('auto', 'sqrt'), \n",
    "    'RFclf__bootstrap': (True, False)\n",
    "}"
   ]
  },
  {
   "cell_type": "code",
   "execution_count": 20,
   "metadata": {},
   "outputs": [
    {
     "name": "stdout",
     "output_type": "stream",
     "text": [
      "Fitting 5 folds for each of 100 candidates, totalling 500 fits\n"
     ]
    },
    {
     "name": "stderr",
     "output_type": "stream",
     "text": [
      "[Parallel(n_jobs=-1)]: Using backend LokyBackend with 2 concurrent workers.\n",
      "[Parallel(n_jobs=-1)]: Done  37 tasks      | elapsed:  1.1min\n",
      "/home/sakima/anaconda3/lib/python3.7/site-packages/joblib/externals/loky/process_executor.py:706: UserWarning: A worker stopped while some jobs were given to the executor. This can be caused by a too short worker timeout or by a memory leak.\n",
      "  \"timeout or by a memory leak.\", UserWarning\n",
      "[Parallel(n_jobs=-1)]: Done 158 tasks      | elapsed: 11.3min\n",
      "[Parallel(n_jobs=-1)]: Done 361 tasks      | elapsed: 22.1min\n",
      "[Parallel(n_jobs=-1)]: Done 500 out of 500 | elapsed: 31.9min finished\n"
     ]
    },
    {
     "name": "stdout",
     "output_type": "stream",
     "text": [
      "done in 1917.874s\n"
     ]
    }
   ],
   "source": [
    "if __name__ == \"__main__\":\n",
    "    rand_search = RandomizedSearchCV(pipeline, parameters, n_iter=100, n_jobs=-1, verbose=2)\n",
    "    #grid_search = GridSearchCV(pipeline, parameters, n_jobs=-1, verbose=2)\n",
    "    t0 = time()\n",
    "    rand_search.fit(reviews_train, rating_train_target)\n",
    "    #grid_search.fit(reviews_train, rating_train_target)\n",
    "    print(\"done in %0.3fs\" % (time() - t0))"
   ]
  },
  {
   "cell_type": "code",
   "execution_count": 21,
   "metadata": {},
   "outputs": [
    {
     "data": {
      "text/plain": [
       "0.38749625636418095"
      ]
     },
     "execution_count": 21,
     "metadata": {},
     "output_type": "execute_result"
    }
   ],
   "source": [
    "rand_search.best_score_"
   ]
  },
  {
   "cell_type": "code",
   "execution_count": 22,
   "metadata": {},
   "outputs": [
    {
     "data": {
      "text/plain": [
       "{'tfidf__use_idf': False,\n",
       " 'tfidf__norm': 'l1',\n",
       " 'tfidf__ngram_range': (1, 1),\n",
       " 'tfidf__lowercase': False,\n",
       " 'RFclf__n_estimators': 500,\n",
       " 'RFclf__min_samples_split': 2,\n",
       " 'RFclf__min_samples_leaf': 4,\n",
       " 'RFclf__max_features': 'auto',\n",
       " 'RFclf__max_depth': 100,\n",
       " 'RFclf__bootstrap': False}"
      ]
     },
     "execution_count": 22,
     "metadata": {},
     "output_type": "execute_result"
    }
   ],
   "source": [
    "rand_search.best_params_"
   ]
  },
  {
   "cell_type": "code",
   "execution_count": null,
   "metadata": {},
   "outputs": [],
   "source": []
  }
 ],
 "metadata": {
  "kernelspec": {
   "display_name": "Python 3",
   "language": "python",
   "name": "python3"
  },
  "language_info": {
   "codemirror_mode": {
    "name": "ipython",
    "version": 3
   },
   "file_extension": ".py",
   "mimetype": "text/x-python",
   "name": "python",
   "nbconvert_exporter": "python",
   "pygments_lexer": "ipython3",
   "version": "3.7.5"
  }
 },
 "nbformat": 4,
 "nbformat_minor": 2
}
